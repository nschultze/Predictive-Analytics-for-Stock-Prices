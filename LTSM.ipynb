{
 "cells": [
  {
   "cell_type": "markdown",
   "metadata": {},
   "source": [
    "Importing Libraries"
   ]
  },
  {
   "cell_type": "code",
   "execution_count": 1,
   "metadata": {},
   "outputs": [],
   "source": [
    "import pandas as pd\n",
    "from sklearn.preprocessing import MinMaxScaler\n",
    "from sklearn.model_selection import train_test_split\n",
    "from sklearn.metrics import mean_squared_error\n",
    "from tensorflow.keras.models import Sequential, load_model\n",
    "from tensorflow.keras.layers import LSTM, Dense, Dropout\n",
    "from tensorflow.keras.callbacks import EarlyStopping\n",
    "import matplotlib.pyplot as plt"
   ]
  },
  {
   "cell_type": "markdown",
   "metadata": {},
   "source": [
    "Loading and Preprocessing the Data"
   ]
  },
  {
   "cell_type": "code",
   "execution_count": 2,
   "metadata": {},
   "outputs": [],
   "source": [
    "data_path = 'archive-4/historical_stock_prices.csv'\n",
    "stock_data_df = pd.read_csv(data_path, parse_dates=['date'])\n",
    "stock_data_df.set_index('date', inplace=True)"
   ]
  },
  {
   "cell_type": "markdown",
   "metadata": {},
   "source": [
    "Excluding Non-Numeric Columns"
   ]
  },
  {
   "cell_type": "code",
   "execution_count": 3,
   "metadata": {},
   "outputs": [],
   "source": [
    "numeric_columns = stock_data_df.select_dtypes(include=[float, int]).columns\n",
    "stock_data_df_numeric = stock_data_df[numeric_columns]"
   ]
  },
  {
   "cell_type": "markdown",
   "metadata": {},
   "source": [
    "Feature Engineering"
   ]
  },
  {
   "cell_type": "code",
   "execution_count": 4,
   "metadata": {},
   "outputs": [],
   "source": [
    "stock_data_df_numeric['returns'] = stock_data_df_numeric['close'].pct_change()\n",
    "stock_data_df_numeric['volatility'] = stock_data_df_numeric['close'].pct_change().rolling(window=20).std()"
   ]
  },
  {
   "cell_type": "markdown",
   "metadata": {},
   "source": [
    "Dropping Null Values"
   ]
  },
  {
   "cell_type": "code",
   "execution_count": 5,
   "metadata": {},
   "outputs": [],
   "source": [
    "stock_data_df_numeric.dropna(inplace=True)"
   ]
  },
  {
   "cell_type": "markdown",
   "metadata": {},
   "source": [
    "Feature Scaling"
   ]
  },
  {
   "cell_type": "code",
   "execution_count": 6,
   "metadata": {},
   "outputs": [],
   "source": [
    "scaler = MinMaxScaler(feature_range=(0, 1))\n",
    "scaled_data = scaler.fit_transform(stock_data_df_numeric)"
   ]
  },
  {
   "cell_type": "markdown",
   "metadata": {},
   "source": [
    "Splitting the Data"
   ]
  },
  {
   "cell_type": "code",
   "execution_count": 7,
   "metadata": {},
   "outputs": [],
   "source": [
    "X = scaled_data[:, 1:]  # Features excluding the target variable (Close)\n",
    "y = scaled_data[:, 0]   # Target variable (Close)\n",
    "X_train, X_test, y_train, y_test = train_test_split(X, y, test_size=0.2, shuffle=False)"
   ]
  },
  {
   "cell_type": "markdown",
   "metadata": {},
   "source": [
    "Reshaping Data"
   ]
  },
  {
   "cell_type": "code",
   "execution_count": 8,
   "metadata": {},
   "outputs": [],
   "source": [
    "X_train = X_train.reshape((X_train.shape[0], 1, X_train.shape[1]))\n",
    "X_test = X_test.reshape((X_test.shape[0], 1, X_test.shape[1]))"
   ]
  },
  {
   "cell_type": "markdown",
   "metadata": {},
   "source": [
    "Creating the LTSM Model"
   ]
  },
  {
   "cell_type": "code",
   "execution_count": 9,
   "metadata": {},
   "outputs": [],
   "source": [
    "model = Sequential()\n",
    "model.add(LSTM(50, input_shape=(X_train.shape[1], X_train.shape[2])))\n",
    "model.add(Dropout(0.2))  # Adjust dropout rate as needed\n",
    "model.add(Dense(1))\n",
    "model.compile(optimizer='adam', loss='mse')"
   ]
  },
  {
   "cell_type": "markdown",
   "metadata": {},
   "source": [
    "Training the Model"
   ]
  },
  {
   "cell_type": "code",
   "execution_count": 10,
   "metadata": {},
   "outputs": [
    {
     "name": "stdout",
     "output_type": "stream",
     "text": [
      "Epoch 1/15\n",
      "524347/524347 [==============================] - 339s 645us/step - loss: 9.5488e-08 - val_loss: 5.6613e-09\n",
      "Epoch 2/15\n",
      "524347/524347 [==============================] - 343s 655us/step - loss: 7.0387e-08 - val_loss: 1.7205e-08\n",
      "Epoch 3/15\n",
      "524347/524347 [==============================] - 343s 654us/step - loss: 7.7544e-08 - val_loss: 5.8110e-09\n",
      "Epoch 4/15\n",
      "524347/524347 [==============================] - 344s 656us/step - loss: 6.0821e-08 - val_loss: 3.4805e-08\n",
      "Epoch 5/15\n",
      "524347/524347 [==============================] - 342s 653us/step - loss: 6.0783e-08 - val_loss: 9.1087e-09\n",
      "Epoch 6/15\n",
      "524347/524347 [==============================] - 335s 639us/step - loss: 6.1031e-08 - val_loss: 6.5934e-09\n",
      "Epoch 7/15\n",
      "524347/524347 [==============================] - 325s 620us/step - loss: 5.5979e-08 - val_loss: 1.3135e-08\n",
      "Epoch 8/15\n",
      "524347/524347 [==============================] - 326s 621us/step - loss: 6.4312e-08 - val_loss: 9.6728e-09\n",
      "Epoch 9/15\n",
      "524347/524347 [==============================] - 325s 620us/step - loss: 5.0610e-08 - val_loss: 5.0250e-09\n",
      "Epoch 10/15\n",
      "524347/524347 [==============================] - 325s 620us/step - loss: 6.5321e-08 - val_loss: 1.6922e-07\n",
      "Epoch 11/15\n",
      "524347/524347 [==============================] - 327s 624us/step - loss: 6.1177e-08 - val_loss: 7.0553e-09\n",
      "Epoch 12/15\n",
      "524347/524347 [==============================] - 332s 634us/step - loss: 5.4295e-08 - val_loss: 4.5674e-09\n",
      "Epoch 13/15\n",
      "524347/524347 [==============================] - 333s 636us/step - loss: 5.4504e-08 - val_loss: 3.0104e-09\n",
      "Epoch 14/15\n",
      "524347/524347 [==============================] - 333s 635us/step - loss: 5.2294e-08 - val_loss: 3.1187e-09\n",
      "Epoch 15/15\n",
      "524347/524347 [==============================] - 332s 633us/step - loss: 5.3951e-08 - val_loss: 6.4084e-09\n"
     ]
    }
   ],
   "source": [
    "early_stopping = EarlyStopping(monitor='val_loss', patience=10, restore_best_weights=True)\n",
    "history = model.fit(X_train, y_train, epochs=15, batch_size=32, validation_data=(X_test, y_test), callbacks=[early_stopping])"
   ]
  },
  {
   "cell_type": "markdown",
   "metadata": {},
   "source": [
    "Saving the Model"
   ]
  },
  {
   "cell_type": "code",
   "execution_count": 11,
   "metadata": {},
   "outputs": [
    {
     "name": "stderr",
     "output_type": "stream",
     "text": [
      "/Library/Frameworks/Python.framework/Versions/3.11/lib/python3.11/site-packages/keras/src/engine/training.py:3000: UserWarning: You are saving your model as an HDF5 file via `model.save()`. This file format is considered legacy. We recommend using instead the native Keras format, e.g. `model.save('my_model.keras')`.\n",
      "  saving_api.save_model(\n"
     ]
    }
   ],
   "source": [
    "model.save('lstm.h5')"
   ]
  },
  {
   "cell_type": "markdown",
   "metadata": {},
   "source": [
    "Loading the Model"
   ]
  },
  {
   "cell_type": "code",
   "execution_count": 12,
   "metadata": {},
   "outputs": [],
   "source": [
    "model = load_model('lstm.h5')"
   ]
  },
  {
   "cell_type": "markdown",
   "metadata": {},
   "source": [
    "Evaluating Model"
   ]
  },
  {
   "cell_type": "code",
   "execution_count": 13,
   "metadata": {},
   "outputs": [
    {
     "name": "stdout",
     "output_type": "stream",
     "text": [
      "131087/131087 [==============================] - 37s 281us/step - loss: 6.4084e-09\n",
      "Model Loss on Test Data: 6.408434227722637e-09\n",
      "131087/131087 [==============================] - 35s 265us/step\n",
      "Mean Squared Error on Test Data: 6.411994746171593e-09\n"
     ]
    }
   ],
   "source": [
    "y_pred = model.predict(X_test)\n",
    "mse = mean_squared_error(y_test, y_pred)\n",
    "print(f'Mean Squared Error on Test Data: {mse}')"
   ]
  },
  {
   "cell_type": "markdown",
   "metadata": {},
   "source": [
    "Plotting Training and Validation Loss"
   ]
  },
  {
   "cell_type": "code",
   "execution_count": 14,
   "metadata": {},
   "outputs": [
    {
     "data": {
      "image/png": "[encoded data removed]",
      "text/plain": [
       "<Figure size 640x480 with 1 Axes>"
      ]
     },
     "metadata": {},
     "output_type": "display_data"
    }
   ],
   "source": [
    "plt.plot(history.history['loss'], label='Training Loss')\n",
    "plt.plot(history.history['val_loss'], label='Validation Loss')\n",
    "plt.legend()\n",
    "plt.show()"
   ]
  }
 ],
 "metadata": {
  "kernelspec": {
   "display_name": "Python 3",
   "language": "python",
   "name": "python3"
  },
  "language_info": {
   "codemirror_mode": {
    "name": "ipython",
    "version": 3
   },
   "file_extension": ".py",
   "mimetype": "text/x-python",
   "name": "python",
   "nbconvert_exporter": "python",
   "pygments_lexer": "ipython3",
   "version": "3.11.5"
  },
  "orig_nbformat": 4
 },
 "nbformat": 4,
 "nbformat_minor": 2
}
