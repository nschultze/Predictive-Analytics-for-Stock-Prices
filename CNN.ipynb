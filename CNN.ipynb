{
 "cells": [
  {
   "cell_type": "markdown",
   "metadata": {},
   "source": [
    "Importing Libraries"
   ]
  },
  {
   "cell_type": "code",
   "execution_count": 1,
   "metadata": {},
   "outputs": [],
   "source": [
    "import pandas as pd\n",
    "from sklearn.preprocessing import MinMaxScaler\n",
    "from sklearn.model_selection import train_test_split\n",
    "from sklearn.metrics import mean_squared_error\n",
    "from tensorflow.keras.models import Sequential, load_model\n",
    "from tensorflow.keras.layers import Conv1D, MaxPooling1D, Flatten, Dense, Dropout\n",
    "from tensorflow.keras.callbacks import EarlyStopping\n",
    "import matplotlib.pyplot as plt"
   ]
  },
  {
   "cell_type": "markdown",
   "metadata": {},
   "source": [
    "Loading and Preprocessing the Data"
   ]
  },
  {
   "cell_type": "code",
   "execution_count": 2,
   "metadata": {},
   "outputs": [],
   "source": [
    "data_path = 'archive-4/historical_stock_prices.csv'\n",
    "stock_data_df = pd.read_csv(data_path, parse_dates=['date'])\n",
    "stock_data_df.set_index('date', inplace=True)"
   ]
  },
  {
   "cell_type": "markdown",
   "metadata": {},
   "source": [
    "Excluding Non-Numeric Columns"
   ]
  },
  {
   "cell_type": "code",
   "execution_count": 3,
   "metadata": {},
   "outputs": [],
   "source": [
    "numeric_columns = stock_data_df.select_dtypes(include=[float, int]).columns\n",
    "stock_data_df_numeric = stock_data_df[numeric_columns]"
   ]
  },
  {
   "cell_type": "markdown",
   "metadata": {},
   "source": [
    "Feature Engineering"
   ]
  },
  {
   "cell_type": "code",
   "execution_count": 4,
   "metadata": {},
   "outputs": [],
   "source": [
    "stock_data_df_numeric['returns'] = stock_data_df_numeric['close'].pct_change()\n",
    "stock_data_df_numeric['volatility'] = stock_data_df_numeric['close'].pct_change().rolling(window=20).std()"
   ]
  },
  {
   "cell_type": "markdown",
   "metadata": {},
   "source": [
    "Dropping Null Values"
   ]
  },
  {
   "cell_type": "code",
   "execution_count": 5,
   "metadata": {},
   "outputs": [],
   "source": [
    "stock_data_df_numeric.dropna(inplace=True)"
   ]
  },
  {
   "cell_type": "markdown",
   "metadata": {},
   "source": [
    "Feature Scaling"
   ]
  },
  {
   "cell_type": "code",
   "execution_count": 6,
   "metadata": {},
   "outputs": [],
   "source": [
    "scaler = MinMaxScaler(feature_range=(0, 1))\n",
    "scaled_data = scaler.fit_transform(stock_data_df_numeric)"
   ]
  },
  {
   "cell_type": "markdown",
   "metadata": {},
   "source": [
    "Splitting the Data"
   ]
  },
  {
   "cell_type": "code",
   "execution_count": 7,
   "metadata": {},
   "outputs": [],
   "source": [
    "X = scaled_data[:, 1:]  # Features excluding the target variable (Close)\n",
    "y = scaled_data[:, 0]   # Target variable (Close)\n",
    "X_train, X_test, y_train, y_test = train_test_split(X, y, test_size=0.2, shuffle=False)"
   ]
  },
  {
   "cell_type": "markdown",
   "metadata": {},
   "source": [
    "Reshaping Data"
   ]
  },
  {
   "cell_type": "code",
   "execution_count": 8,
   "metadata": {},
   "outputs": [],
   "source": [
    "X_train = X_train.reshape((X_train.shape[0], X_train.shape[1], 1))\n",
    "X_test = X_test.reshape((X_test.shape[0], X_test.shape[1], 1))"
   ]
  },
  {
   "cell_type": "markdown",
   "metadata": {},
   "source": [
    "Creating the 1D CNN Model"
   ]
  },
  {
   "cell_type": "code",
   "execution_count": 9,
   "metadata": {},
   "outputs": [],
   "source": [
    "model = Sequential()\n",
    "model.add(Conv1D(filters=64, kernel_size=3, activation='relu', input_shape=(X_train.shape[1], X_train.shape[2])))\n",
    "model.add(MaxPooling1D(pool_size=2))\n",
    "model.add(Flatten())\n",
    "model.add(Dense(50, activation='relu'))\n",
    "model.add(Dropout(0.2))\n",
    "model.add(Dense(1))\n",
    "model.compile(optimizer='adam', loss='mse')"
   ]
  },
  {
   "cell_type": "markdown",
   "metadata": {},
   "source": [
    "Training the Model"
   ]
  },
  {
   "cell_type": "code",
   "execution_count": 10,
   "metadata": {},
   "outputs": [
    {
     "name": "stdout",
     "output_type": "stream",
     "text": [
      "Epoch 1/15\n",
      "524347/524347 [==============================] - 228s 433us/step - loss: 3.2565e-07 - val_loss: 1.3934e-07\n",
      "Epoch 2/15\n",
      "524347/524347 [==============================] - 224s 427us/step - loss: 2.9117e-07 - val_loss: 2.7083e-08\n",
      "Epoch 3/15\n",
      "524347/524347 [==============================] - 224s 428us/step - loss: 3.3022e-07 - val_loss: 1.0337e-08\n",
      "Epoch 4/15\n",
      "524347/524347 [==============================] - 225s 429us/step - loss: 3.0616e-07 - val_loss: 4.9052e-08\n",
      "Epoch 5/15\n",
      "524347/524347 [==============================] - 225s 429us/step - loss: 3.0074e-07 - val_loss: 5.5862e-08\n",
      "Epoch 6/15\n",
      "524347/524347 [==============================] - 225s 430us/step - loss: 3.2743e-07 - val_loss: 4.3726e-08\n",
      "Epoch 7/15\n",
      "524347/524347 [==============================] - 225s 428us/step - loss: 3.3007e-07 - val_loss: 1.9541e-08\n",
      "Epoch 8/15\n",
      "524347/524347 [==============================] - 225s 429us/step - loss: 3.1470e-07 - val_loss: 8.9574e-09\n",
      "Epoch 9/15\n",
      "524347/524347 [==============================] - 227s 432us/step - loss: 3.3381e-07 - val_loss: 8.0789e-09\n",
      "Epoch 10/15\n",
      "524347/524347 [==============================] - 229s 436us/step - loss: 3.2599e-07 - val_loss: 2.3339e-08\n",
      "Epoch 11/15\n",
      "524347/524347 [==============================] - 227s 433us/step - loss: 3.0096e-07 - val_loss: 4.5044e-08\n",
      "Epoch 12/15\n",
      "524347/524347 [==============================] - 224s 428us/step - loss: 3.5636e-07 - val_loss: 2.2187e-08\n",
      "Epoch 13/15\n",
      "524347/524347 [==============================] - 227s 432us/step - loss: 3.5766e-07 - val_loss: 1.7215e-08\n",
      "Epoch 14/15\n",
      "524347/524347 [==============================] - 225s 429us/step - loss: 4.0482e-07 - val_loss: 1.6823e-08\n",
      "Epoch 15/15\n",
      "524347/524347 [==============================] - 224s 428us/step - loss: 4.5974e-07 - val_loss: 1.7873e-08\n"
     ]
    }
   ],
   "source": [
    "early_stopping = EarlyStopping(monitor='val_loss', patience=10, restore_best_weights=True)\n",
    "history = model.fit(X_train, y_train, epochs=15, batch_size=32, validation_data=(X_test, y_test), callbacks=[early_stopping])"
   ]
  },
  {
   "cell_type": "markdown",
   "metadata": {},
   "source": [
    "Saving the Model"
   ]
  },
  {
   "cell_type": "code",
   "execution_count": 11,
   "metadata": {},
   "outputs": [
    {
     "name": "stderr",
     "output_type": "stream",
     "text": [
      "/Library/Frameworks/Python.framework/Versions/3.11/lib/python3.11/site-packages/keras/src/engine/training.py:3000: UserWarning: You are saving your model as an HDF5 file via `model.save()`. This file format is considered legacy. We recommend using instead the native Keras format, e.g. `model.save('my_model.keras')`.\n",
      "  saving_api.save_model(\n"
     ]
    }
   ],
   "source": [
    "model.save('cnn.h5.h5')"
   ]
  },
  {
   "cell_type": "markdown",
   "metadata": {},
   "source": [
    "Loading the Saved Model"
   ]
  },
  {
   "cell_type": "code",
   "execution_count": 12,
   "metadata": {},
   "outputs": [],
   "source": [
    "model = load_model('cnn.h5.h5')"
   ]
  },
  {
   "cell_type": "markdown",
   "metadata": {},
   "source": [
    "Evaluating Model"
   ]
  },
  {
   "cell_type": "code",
   "execution_count": 13,
   "metadata": {},
   "outputs": [
    {
     "name": "stdout",
     "output_type": "stream",
     "text": [
      "131087/131087 [==============================] - 27s 206us/step\n",
      "Mean Squared Error on Test Data: 1.7881292701207242e-08\n"
     ]
    }
   ],
   "source": [
    "y_pred = model.predict(X_test)\n",
    "mse = mean_squared_error(y_test, y_pred)\n",
    "print(f'Mean Squared Error on Test Data: {mse}')"
   ]
  },
  {
   "cell_type": "markdown",
   "metadata": {},
   "source": [
    "Plotting Training and Validation Loss"
   ]
  },
  {
   "cell_type": "code",
   "execution_count": 14,
   "metadata": {},
   "outputs": [
    {
     "data": {
      "image/png": "[encoded data removed]",
      "text/plain": [
       "<Figure size 640x480 with 1 Axes>"
      ]
     },
     "metadata": {},
     "output_type": "display_data"
    }
   ],
   "source": [
    "plt.plot(history.history['loss'], label='Training Loss')\n",
    "plt.plot(history.history['val_loss'], label='Validation Loss')\n",
    "plt.legend()\n",
    "plt.show()"
   ]
  }
 ],
 "metadata": {
  "kernelspec": {
   "display_name": "Python 3",
   "language": "python",
   "name": "python3"
  },
  "language_info": {
   "codemirror_mode": {
    "name": "ipython",
    "version": 3
   },
   "file_extension": ".py",
   "mimetype": "text/x-python",
   "name": "python",
   "nbconvert_exporter": "python",
   "pygments_lexer": "ipython3",
   "version": "3.11.5"
  },
  "orig_nbformat": 4
 },
 "nbformat": 4,
 "nbformat_minor": 2
}
